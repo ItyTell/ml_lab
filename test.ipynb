{
 "cells": [
  {
   "cell_type": "code",
   "execution_count": 1,
   "metadata": {},
   "outputs": [],
   "source": [
    "# Bibliotecas\n",
    "import numpy as np \n",
    "import matplotlib.pyplot as plt\n",
    "import pandas as pd\n",
    "\n",
    "# Custom Libraries\n",
    "from data import get_data, clean_data\n",
    "\n",
    "# Preprocessing\n",
    "from sklearn.preprocessing import MinMaxScaler\n",
    "from sklearn.model_selection import train_test_split\n",
    "\n",
    "\n",
    "# Models\n",
    "from sklearn.linear_model import LogisticRegression\n",
    "from sklearn.svm import SVC\n",
    "from sklearn.naive_bayes import MultinomialNB\n",
    "from sklearn.tree import DecisionTreeClassifier\n",
    "from sklearn.neighbors import KNeighborsClassifier\n",
    "from sklearn.ensemble import RandomForestClassifier\n",
    "from sklearn.ensemble import AdaBoostClassifier\n",
    "from sklearn.ensemble import BaggingClassifier\n",
    "from sklearn.ensemble import ExtraTreesClassifier\n",
    "from sklearn.ensemble import GradientBoostingClassifier\n",
    "from xgboost import XGBClassifier\n",
    "\n",
    "\n",
    "# Metrics\n",
    "from sklearn.metrics import precision_score, recall_score, f1_score, accuracy_score\n",
    "\n"
   ]
  },
  {
   "cell_type": "code",
   "execution_count": 2,
   "metadata": {},
   "outputs": [
    {
     "name": "stdout",
     "output_type": "stream",
     "text": [
      "Removed 0.01888276947285602% contradictory rows and 8.300884533772024% duplicates\n"
     ]
    }
   ],
   "source": [
    "data = clean_data(get_data())"
   ]
  },
  {
   "cell_type": "code",
   "execution_count": 3,
   "metadata": {},
   "outputs": [],
   "source": [
    "train_val_df, test_df = train_test_split(data, test_size=0.2, random_state=42)\n",
    "train_df, val_df = train_test_split(train_val_df, test_size=0.25, random_state=42)  \n",
    "\n",
    "train_y = train_df['target']\n",
    "train_x = train_df.drop(columns=['target'])\n",
    "\n",
    "val_y = val_df['target']\n",
    "val_x = val_df.drop(columns=['target'])\n",
    "\n",
    "test_y = test_df['target']\n",
    "test_x = test_df.drop(columns=['target'])\n",
    "\n",
    "scaler = MinMaxScaler()\n",
    "train_x = scaler.fit_transform(train_x)\n",
    "val_x = scaler.transform(val_x)\n",
    "test_x = scaler.transform(test_x)"
   ]
  },
  {
   "cell_type": "code",
   "execution_count": 5,
   "metadata": {},
   "outputs": [],
   "source": [
    "def print_metrics(y_true, y_pred):\n",
    "    print('Precision: ', precision_score(y_true, y_pred) * 100, '%')\n",
    "    print('Recall: ', recall_score(y_true, y_pred) * 100, '%')\n",
    "    print('F1 Score: ', f1_score(y_true, y_pred) * 100, '%')\n",
    "    print('Accuracy: ', accuracy_score(y_true, y_pred) * 100, '%')\n",
    "\n",
    "\n",
    "def metrics(model, train_x = train_x, train_y=train_y, val_x = val_x, val_y = val_y, test_x = test_x, test_y = test_y, treshold=0.5):\n",
    "    y_pred_train = model.predict(train_x)\n",
    "    y_pred_val = model.predict(val_x)\n",
    "    y_pred_test = model.predict(test_x)\n",
    "\n",
    "    print('Train')\n",
    "    print_metrics(train_y, y_pred_train > treshold)\n",
    "    print('Val')\n",
    "    print_metrics(val_y, y_pred_val > treshold)\n",
    "    print('Test')\n",
    "    print_metrics(test_y, y_pred_test >  treshold)\n"
   ]
  },
  {
   "cell_type": "code",
   "execution_count": 7,
   "metadata": {},
   "outputs": [
    {
     "name": "stdout",
     "output_type": "stream",
     "text": [
      "Train\n",
      "Precision:  26.865671641791046 %\n",
      "Recall:  0.7200720072007201 %\n",
      "F1 Score:  1.402551865199182 %\n",
      "Accuracy:  98.24497530344087 %\n",
      "Val\n",
      "Precision:  33.33333333333333 %\n",
      "Recall:  0.7701786814540973 %\n",
      "F1 Score:  1.5055706112616682 %\n",
      "Accuracy:  98.29872000915394 %\n",
      "Test\n",
      "Precision:  27.450980392156865 %\n",
      "Recall:  0.850546780072904 %\n",
      "F1 Score:  1.6499705362404242 %\n",
      "Accuracy:  98.26388166517569 %\n"
     ]
    }
   ],
   "source": [
    "model = LogisticRegression()\n",
    "model.fit(train_x, train_y)\n",
    "metrics(model)"
   ]
  },
  {
   "cell_type": "code",
   "execution_count": 8,
   "metadata": {},
   "outputs": [
    {
     "name": "stdout",
     "output_type": "stream",
     "text": [
      "Train\n",
      "Precision:  100.0 %\n",
      "Recall:  100.0 %\n",
      "F1 Score:  100.0 %\n",
      "Accuracy:  100.0 %\n",
      "Val\n",
      "Precision:  68.10551558752998 %\n",
      "Recall:  69.99383857054838 %\n",
      "F1 Score:  69.03676694013977 %\n",
      "Accuracy:  98.94001570732367 %\n",
      "Test\n",
      "Precision:  69.33293087835798 %\n",
      "Recall:  69.77521263669502 %\n",
      "F1 Score:  69.55336866010599 %\n",
      "Accuracy:  98.95406411883413 %\n"
     ]
    }
   ],
   "source": [
    "model= DecisionTreeClassifier()\n",
    "model.fit(train_x, train_y)\n",
    "metrics(model)"
   ]
  },
  {
   "cell_type": "code",
   "execution_count": 9,
   "metadata": {},
   "outputs": [
    {
     "name": "stdout",
     "output_type": "stream",
     "text": [
      "Train\n",
      "Precision:  81.57298521954903 %\n",
      "Recall:  75.61756175617562 %\n",
      "F1 Score:  78.48245796138676 %\n",
      "Accuracy:  99.2812079035924 %\n",
      "Val\n",
      "Precision:  78.42242503259452 %\n",
      "Recall:  74.12199630314234 %\n",
      "F1 Score:  76.211593284764 %\n",
      "Accuracy:  99.21879469695789 %\n",
      "Test\n",
      "Precision:  79.23076923076923 %\n",
      "Recall:  75.09113001215067 %\n",
      "F1 Score:  77.10542732376794 %\n",
      "Accuracy:  99.23648240996941 %\n"
     ]
    }
   ],
   "source": [
    "model = DecisionTreeClassifier(max_depth=9)\n",
    "model.fit(train_x, train_y)\n",
    "metrics(model)"
   ]
  },
  {
   "cell_type": "code",
   "execution_count": 10,
   "metadata": {},
   "outputs": [
    {
     "name": "stdout",
     "output_type": "stream",
     "text": [
      "Train\n",
      "Precision:  100.0 %\n",
      "Recall:  99.97999799979999 %\n",
      "F1 Score:  99.98999799959992 %\n",
      "Accuracy:  99.99965325996314 %\n",
      "Val\n",
      "Precision:  81.13333333333334 %\n",
      "Recall:  74.98459642637091 %\n",
      "F1 Score:  77.93788024335575 %\n",
      "Accuracy:  99.28328834381355 %\n",
      "Test\n",
      "Precision:  82.17821782178217 %\n",
      "Recall:  75.63791008505468 %\n",
      "F1 Score:  78.77254033533691 %\n",
      "Accuracy:  99.3020159360892 %\n"
     ]
    }
   ],
   "source": [
    "model = RandomForestClassifier(n_estimators=100, random_state=42)\n",
    "model.fit(train_x, train_y)\n",
    "metrics(model)"
   ]
  },
  {
   "cell_type": "code",
   "execution_count": 11,
   "metadata": {},
   "outputs": [
    {
     "name": "stdout",
     "output_type": "stream",
     "text": [
      "Train\n",
      "Precision:  73.95993836671802 %\n",
      "Recall:  4.8004800480048 %\n",
      "F1 Score:  9.015777610818933 %\n",
      "Accuracy:  98.3203912614576 %\n",
      "Val\n",
      "Precision:  71.875 %\n",
      "Recall:  4.959950708564387 %\n",
      "F1 Score:  9.279538904899136 %\n",
      "Accuracy:  98.36269354595433 %\n",
      "Test\n",
      "Precision:  73.38403041825094 %\n",
      "Recall:  5.8626974483596594 %\n",
      "F1 Score:  10.857946554149086 %\n",
      "Accuracy:  98.35177980735223 %\n"
     ]
    }
   ],
   "source": [
    "model = SVC()\n",
    "model.fit(train_x, train_y)\n",
    "metrics(model)"
   ]
  },
  {
   "cell_type": "code",
   "execution_count": 13,
   "metadata": {},
   "outputs": [
    {
     "data": {
      "text/plain": [
       "['models/svm_model.pkl']"
      ]
     },
     "execution_count": 13,
     "metadata": {},
     "output_type": "execute_result"
    }
   ],
   "source": [
    "# save svm model\n",
    "import joblib\n",
    "joblib.dump(model, 'models/svm_model.pkl')"
   ]
  },
  {
   "cell_type": "code",
   "execution_count": 14,
   "metadata": {},
   "outputs": [
    {
     "name": "stdout",
     "output_type": "stream",
     "text": [
      "Train\n",
      "Precision:  9.70873786407767 %\n",
      "Recall:  0.2000200020002 %\n",
      "F1 Score:  0.39196472317491426 %\n",
      "Accuracy:  98.23769376266685 %\n",
      "Val\n",
      "Precision:  10.44776119402985 %\n",
      "Recall:  0.21565003080714723 %\n",
      "F1 Score:  0.42257772411711436 %\n",
      "Accuracy:  98.28415692760588 %\n",
      "Test\n",
      "Precision:  8.333333333333332 %\n",
      "Recall:  0.18226002430133656 %\n",
      "F1 Score:  0.356718192627824 %\n",
      "Accuracy:  98.25660016227349 %\n"
     ]
    }
   ],
   "source": [
    "model = MultinomialNB()\n",
    "model.fit(train_x, train_y)\n",
    "metrics(model)"
   ]
  },
  {
   "cell_type": "code",
   "execution_count": 15,
   "metadata": {},
   "outputs": [
    {
     "name": "stdout",
     "output_type": "stream",
     "text": [
      "Train\n",
      "Precision:  77.44397531666125 %\n",
      "Recall:  47.6947694769477 %\n",
      "F1 Score:  59.03323636813765 %\n",
      "Accuracy:  98.8524638480169 %\n",
      "Val\n",
      "Precision:  58.7093389296957 %\n",
      "Recall:  34.473197781885396 %\n",
      "F1 Score:  43.43944099378882 %\n",
      "Accuracy:  98.48439929889165 %\n",
      "Test\n",
      "Precision:  60.536980749746704 %\n",
      "Recall:  36.30012150668287 %\n",
      "F1 Score:  45.38549183440942 %\n",
      "Accuracy:  98.50417126094825 %\n"
     ]
    }
   ],
   "source": [
    "model = KNeighborsClassifier()\n",
    "model.fit(train_x, train_y)\n",
    "metrics(model)"
   ]
  },
  {
   "cell_type": "code",
   "execution_count": 16,
   "metadata": {},
   "outputs": [
    {
     "name": "stderr",
     "output_type": "stream",
     "text": [
      "/home/qwas/miniconda3/lib/python3.12/site-packages/sklearn/ensemble/_weight_boosting.py:527: FutureWarning: The SAMME.R algorithm (the default) is deprecated and will be removed in 1.6. Use the SAMME algorithm to circumvent this warning.\n",
      "  warnings.warn(\n"
     ]
    },
    {
     "name": "stdout",
     "output_type": "stream",
     "text": [
      "Train\n",
      "Precision:  69.03988566974147 %\n",
      "Recall:  53.145314531453145 %\n",
      "F1 Score:  60.05877034358047 %\n",
      "Accuracy:  98.77462070974218 %\n",
      "Val\n",
      "Precision:  67.425431711146 %\n",
      "Recall:  52.92667898952557 %\n",
      "F1 Score:  59.302726958923024 %\n",
      "Accuracy:  98.77358048963161 %\n",
      "Test\n",
      "Precision:  68.2824427480916 %\n",
      "Recall:  54.34386391251519 %\n",
      "F1 Score:  60.52097428958051 %\n",
      "Accuracy:  98.7860694447334 %\n"
     ]
    }
   ],
   "source": [
    "model = AdaBoostClassifier()\n",
    "model.fit(train_x, train_y)\n",
    "metrics(model)"
   ]
  },
  {
   "cell_type": "code",
   "execution_count": 17,
   "metadata": {},
   "outputs": [
    {
     "name": "stdout",
     "output_type": "stream",
     "text": [
      "Train\n",
      "Precision:  99.3744787322769 %\n",
      "Recall:  95.32953295329533 %\n",
      "F1 Score:  97.3099892807922 %\n",
      "Accuracy:  99.9086340002878 %\n",
      "Val\n",
      "Precision:  81.2804453723034 %\n",
      "Recall:  71.96549599507087 %\n",
      "F1 Score:  76.33986928104575 %\n",
      "Accuracy:  99.24688063994341 %\n",
      "Test\n",
      "Precision:  82.65554396941258 %\n",
      "Recall:  72.23572296476306 %\n",
      "F1 Score:  77.09515318528123 %\n",
      "Accuracy:  99.26508831422805 %\n"
     ]
    }
   ],
   "source": [
    "model = BaggingClassifier()\n",
    "model.fit(train_x, train_y)\n",
    "metrics(model)"
   ]
  },
  {
   "cell_type": "code",
   "execution_count": 18,
   "metadata": {},
   "outputs": [
    {
     "name": "stdout",
     "output_type": "stream",
     "text": [
      "Train\n",
      "Precision:  100.0 %\n",
      "Recall:  100.0 %\n",
      "F1 Score:  100.0 %\n",
      "Accuracy:  100.0 %\n",
      "Val\n",
      "Precision:  78.42948717948718 %\n",
      "Recall:  75.38508934072705 %\n",
      "F1 Score:  76.87715991203268 %\n",
      "Accuracy:  99.23439799861652 %\n",
      "Test\n",
      "Precision:  78.96913776646515 %\n",
      "Recall:  75.39489671931956 %\n",
      "F1 Score:  77.14063714063714 %\n",
      "Accuracy:  99.23492208791895 %\n"
     ]
    }
   ],
   "source": [
    "model = ExtraTreesClassifier()\n",
    "model.fit(train_x, train_y)\n",
    "metrics(model)"
   ]
  },
  {
   "cell_type": "code",
   "execution_count": 19,
   "metadata": {},
   "outputs": [
    {
     "name": "stdout",
     "output_type": "stream",
     "text": [
      "Train\n",
      "Precision:  79.8944647856989 %\n",
      "Recall:  74.1974197419742 %\n",
      "F1 Score:  76.94062743064558 %\n",
      "Accuracy:  99.2290235280452 %\n",
      "Val\n",
      "Precision:  77.80327868852459 %\n",
      "Recall:  73.10536044362293 %\n",
      "F1 Score:  75.38119440914866 %\n",
      "Accuracy:  99.19382941430406 %\n",
      "Test\n",
      "Precision:  78.8831835686778 %\n",
      "Recall:  74.66585662211422 %\n",
      "F1 Score:  76.71660424469412 %\n",
      "Accuracy:  99.22399983356564 %\n"
     ]
    }
   ],
   "source": [
    "model = GradientBoostingClassifier()\n",
    "model.fit(train_x, train_y)\n",
    "metrics(model)"
   ]
  },
  {
   "cell_type": "code",
   "execution_count": 20,
   "metadata": {},
   "outputs": [
    {
     "name": "stdout",
     "output_type": "stream",
     "text": [
      "Train\n",
      "Precision:  86.51747940325095 %\n",
      "Recall:  77.71777177717772 %\n",
      "F1 Score:  81.88188188188188 %\n",
      "Accuracy:  99.40378050662187 %\n",
      "Val\n",
      "Precision:  80.99117447386287 %\n",
      "Recall:  73.50585335797905 %\n",
      "F1 Score:  77.0671834625323 %\n",
      "Accuracy:  99.26144372149147 %\n",
      "Test\n",
      "Precision:  81.90571049136787 %\n",
      "Recall:  74.93924665856622 %\n",
      "F1 Score:  78.26776649746193 %\n",
      "Accuracy:  99.28745293028481 %\n"
     ]
    }
   ],
   "source": [
    "model = XGBClassifier()\n",
    "model.fit(train_x, train_y)\n",
    "metrics(model)"
   ]
  },
  {
   "cell_type": "code",
   "execution_count": null,
   "metadata": {},
   "outputs": [],
   "source": []
  }
 ],
 "metadata": {
  "kernelspec": {
   "display_name": "base",
   "language": "python",
   "name": "python3"
  },
  "language_info": {
   "codemirror_mode": {
    "name": "ipython",
    "version": 3
   },
   "file_extension": ".py",
   "mimetype": "text/x-python",
   "name": "python",
   "nbconvert_exporter": "python",
   "pygments_lexer": "ipython3",
   "version": "3.12.2"
  }
 },
 "nbformat": 4,
 "nbformat_minor": 2
}
