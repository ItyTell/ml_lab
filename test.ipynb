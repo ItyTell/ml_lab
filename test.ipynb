{
 "cells": [
  {
   "cell_type": "code",
   "execution_count": 1,
   "metadata": {},
   "outputs": [],
   "source": [
    "# Bibliotecas\n",
    "import numpy as np \n",
    "import matplotlib.pyplot as plt\n",
    "import pandas as pd\n",
    "\n",
    "# Custom Libraries\n",
    "from data import get_data, clean_data\n",
    "\n",
    "# Preprocessing\n",
    "from sklearn.preprocessing import MinMaxScaler\n",
    "from sklearn.model_selection import train_test_split\n",
    "\n",
    "\n",
    "# Models\n",
    "from sklearn.linear_model import LogisticRegression\n",
    "from sklearn.svm import SVC\n",
    "from sklearn.naive_bayes import MultinomialNB\n",
    "from sklearn.tree import DecisionTreeClassifier\n",
    "from sklearn.neighbors import KNeighborsClassifier\n",
    "from sklearn.ensemble import RandomForestClassifier\n",
    "from sklearn.ensemble import AdaBoostClassifier\n",
    "from sklearn.ensemble import BaggingClassifier\n",
    "from sklearn.ensemble import ExtraTreesClassifier\n",
    "from sklearn.ensemble import GradientBoostingClassifier\n",
    "from xgboost import XGBClassifier\n",
    "\n",
    "\n",
    "# Metrics\n",
    "from sklearn.metrics import precision_score, recall_score, f1_score, accuracy_score\n",
    "\n",
    "# load model \n",
    "import joblib\n",
    "\n",
    "from prettytable import PrettyTable"
   ]
  },
  {
   "cell_type": "code",
   "execution_count": 2,
   "metadata": {},
   "outputs": [
    {
     "name": "stdout",
     "output_type": "stream",
     "text": [
      "Removed 0.01888276947285602% contradictory rows and 8.300884533772024% duplicates\n"
     ]
    }
   ],
   "source": [
    "data = clean_data(get_data())"
   ]
  },
  {
   "cell_type": "code",
   "execution_count": 3,
   "metadata": {},
   "outputs": [],
   "source": [
    "train_val_df, test_df = train_test_split(data, test_size=0.2, random_state=42)\n",
    "train_df, val_df = train_test_split(train_val_df, test_size=0.25, random_state=42)  \n",
    "\n",
    "train_y = train_df['target']\n",
    "train_x = train_df.drop(columns=['target'])\n",
    "\n",
    "val_y = val_df['target']\n",
    "val_x = val_df.drop(columns=['target'])\n",
    "\n",
    "test_y = test_df['target']\n",
    "test_x = test_df.drop(columns=['target'])\n",
    "\n",
    "scaler = MinMaxScaler()\n",
    "train_x = scaler.fit_transform(train_x)\n",
    "val_x = scaler.transform(val_x)\n",
    "test_x = scaler.transform(test_x)"
   ]
  },
  {
   "cell_type": "code",
   "execution_count": 4,
   "metadata": {},
   "outputs": [],
   "source": [
    "RESULTS = {}\n",
    "MODELS = {}\n",
    "def give_metrics(y_true, y_pred):\n",
    "    result = {}\n",
    "    result['Precision'] = precision_score(y_true, y_pred) * 100\n",
    "    result['Recall'] = recall_score(y_true, y_pred) * 100\n",
    "    result['F1 Score'] = f1_score(y_true, y_pred) * 100\n",
    "    result['Accuracy'] = accuracy_score(y_true, y_pred) * 100\n",
    "    return result\n",
    "\n",
    "def metrics(model, model_name, train_x = train_x, train_y=train_y, val_x = val_x, val_y = val_y, test_x = test_x, test_y = test_y, treshold=0.5):\n",
    "    result = {}\n",
    "    result['Train'] = give_metrics(train_y, model.predict(train_x) > treshold)\n",
    "    result['Validation'] = give_metrics(val_y, model.predict(val_x) > treshold)\n",
    "    result['Test'] = give_metrics(test_y, model.predict(test_x) > treshold)\n",
    "    RESULTS[model_name] = result\n",
    "    MODELS[model_name] = model\n"
   ]
  },
  {
   "cell_type": "code",
   "execution_count": 5,
   "metadata": {},
   "outputs": [],
   "source": [
    "RESULTS = {}\n",
    "MODELS = {}"
   ]
  },
  {
   "cell_type": "code",
   "execution_count": 6,
   "metadata": {},
   "outputs": [],
   "source": [
    "model = LogisticRegression()\n",
    "model.fit(train_x, train_y)\n",
    "metrics(model, 'Logistic Regression')"
   ]
  },
  {
   "cell_type": "code",
   "execution_count": 7,
   "metadata": {},
   "outputs": [],
   "source": [
    "model= DecisionTreeClassifier()\n",
    "model.fit(train_x, train_y)\n",
    "metrics(model, 'Decision Tree')"
   ]
  },
  {
   "cell_type": "code",
   "execution_count": 8,
   "metadata": {},
   "outputs": [],
   "source": [
    "model = DecisionTreeClassifier(max_depth=9)\n",
    "model.fit(train_x, train_y)\n",
    "metrics(model, 'Decision Tree Max Depth 9')"
   ]
  },
  {
   "cell_type": "code",
   "execution_count": 27,
   "metadata": {},
   "outputs": [],
   "source": [
    "model = RandomForestClassifier(n_estimators=100, random_state=42)\n",
    "model.fit(train_x, train_y)\n",
    "metrics(model, 'Random Forest')"
   ]
  },
  {
   "cell_type": "code",
   "execution_count": 10,
   "metadata": {},
   "outputs": [],
   "source": [
    "model = joblib.load('models/svm_model.pkl')\n",
    "metrics(model, 'SVM')"
   ]
  },
  {
   "cell_type": "code",
   "execution_count": 11,
   "metadata": {},
   "outputs": [
    {
     "name": "stdout",
     "output_type": "stream",
     "text": [
      "Train\n",
      "Precision:  73.95993836671802 %\n",
      "Recall:  4.8004800480048 %\n",
      "F1 Score:  9.015777610818933 %\n",
      "Accuracy:  98.3203912614576 %\n",
      "Val\n",
      "Precision:  71.875 %\n",
      "Recall:  4.959950708564387 %\n",
      "F1 Score:  9.279538904899136 %\n",
      "Accuracy:  98.36269354595433 %\n",
      "Test\n",
      "Precision:  73.38403041825094 %\n",
      "Recall:  5.8626974483596594 %\n",
      "F1 Score:  10.857946554149086 %\n",
      "Accuracy:  98.35177980735223 %\n"
     ]
    }
   ],
   "source": [
    "model = SVC()\n",
    "model.fit(train_x, train_y)\n",
    "metrics(model)"
   ]
  },
  {
   "cell_type": "code",
   "execution_count": 13,
   "metadata": {},
   "outputs": [
    {
     "data": {
      "text/plain": [
       "['models/svm_model.pkl']"
      ]
     },
     "execution_count": 13,
     "metadata": {},
     "output_type": "execute_result"
    }
   ],
   "source": [
    "# save svm model\n",
    "import joblib\n",
    "joblib.dump(model, 'models/svm_model.pkl')"
   ]
  },
  {
   "cell_type": "code",
   "execution_count": 11,
   "metadata": {},
   "outputs": [],
   "source": [
    "model = MultinomialNB()\n",
    "model.fit(train_x, train_y)\n",
    "metrics(model, 'Naive Bayes')"
   ]
  },
  {
   "cell_type": "code",
   "execution_count": 12,
   "metadata": {},
   "outputs": [],
   "source": [
    "model = KNeighborsClassifier()\n",
    "model.fit(train_x, train_y)\n",
    "metrics(model, \"Kneighbors\")"
   ]
  },
  {
   "cell_type": "code",
   "execution_count": 13,
   "metadata": {},
   "outputs": [
    {
     "name": "stderr",
     "output_type": "stream",
     "text": [
      "/home/qwas/miniconda3/lib/python3.12/site-packages/sklearn/ensemble/_weight_boosting.py:527: FutureWarning: The SAMME.R algorithm (the default) is deprecated and will be removed in 1.6. Use the SAMME algorithm to circumvent this warning.\n",
      "  warnings.warn(\n"
     ]
    }
   ],
   "source": [
    "model = AdaBoostClassifier()\n",
    "model.fit(train_x, train_y)\n",
    "metrics(model, \"Adaboost\")"
   ]
  },
  {
   "cell_type": "code",
   "execution_count": 14,
   "metadata": {},
   "outputs": [],
   "source": [
    "model = BaggingClassifier()\n",
    "model.fit(train_x, train_y)\n",
    "metrics(model, \"Bagging\")"
   ]
  },
  {
   "cell_type": "code",
   "execution_count": 15,
   "metadata": {},
   "outputs": [],
   "source": [
    "model = ExtraTreesClassifier()\n",
    "model.fit(train_x, train_y)\n",
    "metrics(model, \"ExtraTrees\")"
   ]
  },
  {
   "cell_type": "code",
   "execution_count": 16,
   "metadata": {},
   "outputs": [],
   "source": [
    "model = GradientBoostingClassifier()\n",
    "model.fit(train_x, train_y)\n",
    "metrics(model, \"GradientBoosting\")"
   ]
  },
  {
   "cell_type": "code",
   "execution_count": 17,
   "metadata": {},
   "outputs": [],
   "source": [
    "model = XGBClassifier()\n",
    "model.fit(train_x, train_y)\n",
    "metrics(model, \"XGB\")"
   ]
  },
  {
   "cell_type": "code",
   "execution_count": 28,
   "metadata": {},
   "outputs": [],
   "source": [
    "table = PrettyTable()\n",
    "table.field_names = [\"Model\", \"tr_precision\", \"tr_recall\", \"tr_f1\", \"val_precision\", \"val_recall\", \"val_f1\", \"te_precision\", \"te_recall\", \"te_f1\"]\n",
    "for model in RESULTS.keys():\n",
    "    table.add_row([model, \n",
    "                   RESULTS[model]['Train']['Precision'], RESULTS[model]['Train']['Recall'], RESULTS[model]['Train']['F1 Score'], \n",
    "                   RESULTS[model]['Validation']['Precision'], RESULTS[model]['Validation']['Recall'], RESULTS[model]['Validation']['F1 Score'], \n",
    "                   RESULTS[model]['Test']['Precision'], RESULTS[model]['Test']['Recall'], RESULTS[model]['Test']['F1 Score']])    "
   ]
  },
  {
   "cell_type": "code",
   "execution_count": 31,
   "metadata": {},
   "outputs": [
    {
     "name": "stdout",
     "output_type": "stream",
     "text": [
      "+---------------------------+--------------------+--------------------+---------------------+-------------------+---------------------+---------------------+--------------------+---------------------+--------------------+\n",
      "|           Model           |    tr_precision    |     tr_recall      |        tr_f1        |   val_precision   |      val_recall     |        val_f1       |    te_precision    |      te_recall      |       te_f1        |\n",
      "+---------------------------+--------------------+--------------------+---------------------+-------------------+---------------------+---------------------+--------------------+---------------------+--------------------+\n",
      "|        Naive Bayes        |  9.70873786407767  |  0.2000200020002   | 0.39196472317491426 | 10.44776119402985 | 0.21565003080714723 | 0.42257772411711436 | 8.333333333333332  | 0.18226002430133656 | 0.356718192627824  |\n",
      "|    Logistic Regression    | 26.865671641791046 | 0.7200720072007201 |  1.402551865199182  | 33.33333333333333 |  0.7701786814540973 |  1.5055706112616682 | 27.450980392156865 |  0.850546780072904  | 1.6499705362404242 |\n",
      "|            SVM            | 73.95993836671802  |  4.8004800480048   |  9.015777610818933  |       71.875      |  4.959950708564387  |  9.279538904899136  | 73.38403041825094  |  5.8626974483596594 | 10.857946554149086 |\n",
      "|         Kneighbors        | 77.44397531666125  |  47.6947694769477  |  59.03323636813765  |  58.7093389296957 |  34.473197781885396 |  43.43944099378882  | 60.536980749746704 |  36.30012150668287  | 45.38549183440942  |\n",
      "|          Adaboost         | 69.03988566974147  | 53.145314531453145 |  60.05877034358047  |  67.425431711146  |  52.92667898952557  |  59.302726958923024 |  68.2824427480916  |  54.34386391251519  | 60.52097428958051  |\n",
      "|       Decision Tree       |       100.0        |       100.0        |        100.0        | 67.95563549160671 |  69.83980283425754  |  68.88483743542996  | 69.65579710144928  |   70.0789793438639  | 69.86674742580254  |\n",
      "|      GradientBoosting     |  79.8944647856989  |  74.1974197419742  |  76.94062743064558  | 77.80327868852459 |  73.10536044362293  |  75.38119440914866  |  78.8831835686778  |  74.66585662211422  | 76.71660424469412  |\n",
      "|          Bagging          | 99.31378665003119  | 95.52955295529553  |  97.38492124178009  | 81.03813559322035 |  70.70240295748613  |  75.51826258637709  | 82.20603537981269  |  71.99270959902795  | 76.76113360323886  |\n",
      "|         ExtraTrees        |       100.0        |       100.0        |        100.0        | 78.73990306946688 |  75.07701786814542  |  76.86484781580192  | 78.81382810022201  |  75.48602673147023  | 77.11404189294026  |\n",
      "| Decision Tree Max Depth 9 | 81.57298521954903  | 75.61756175617562  |  78.48245796138676  |  78.3642880417074 |  74.09118915588417  |  76.16785431512272  | 79.23742390259532  |  75.12150668286756  | 77.12459067519102  |\n",
      "|            XGB            | 86.51747940325095  | 77.71777177717772  |  81.88188188188188  | 80.99117447386287 |  73.50585335797905  |   77.0671834625323  | 81.90571049136787  |  74.93924665856622  | 78.26776649746193  |\n",
      "|       Random Forest       |       100.0        | 99.97999799979999  |  99.98999799959992  | 81.13333333333334 |  74.98459642637091  |  77.93788024335575  | 82.17821782178217  |  75.63791008505468  | 78.77254033533691  |\n",
      "+---------------------------+--------------------+--------------------+---------------------+-------------------+---------------------+---------------------+--------------------+---------------------+--------------------+\n"
     ]
    }
   ],
   "source": [
    "table.sortby = \"te_f1\"\n",
    "print(table)"
   ]
  },
  {
   "cell_type": "code",
   "execution_count": 32,
   "metadata": {},
   "outputs": [],
   "source": [
    "import torch\n",
    "import torch.nn as nn\n",
    "import torch.optim as optim\n",
    "from torch.utils.data import DataLoader, TensorDataset"
   ]
  },
  {
   "cell_type": "code",
   "execution_count": 60,
   "metadata": {},
   "outputs": [],
   "source": [
    "class MegaInator(nn.Module):\n",
    "    def __init__(self, input_size):\n",
    "        super(MegaInator, self).__init__()\n",
    "        \n",
    "        self.model = nn.Sequential(\n",
    "            # First block\n",
    "            nn.Linear(input_size, 512),\n",
    "            nn.BatchNorm1d(512),\n",
    "            nn.ReLU(),\n",
    "            nn.Dropout(0.3),\n",
    "            \n",
    "            # Second block\n",
    "            nn.Linear(512, 1024),\n",
    "            nn.BatchNorm1d(1024),\n",
    "            nn.ReLU(),\n",
    "            nn.Dropout(0.3),\n",
    "            \n",
    "            # Third block\n",
    "            nn.Linear(1024, 2048),\n",
    "            nn.BatchNorm1d(2048),\n",
    "            nn.ReLU(),\n",
    "            nn.Dropout(0.4),\n",
    "            \n",
    "            # Fourth block\n",
    "            nn.Linear(2048, 1024),\n",
    "            nn.BatchNorm1d(1024),\n",
    "            nn.ReLU(),\n",
    "            nn.Dropout(0.4),\n",
    "            \n",
    "            # Fifth block\n",
    "            nn.Linear(1024, 512),\n",
    "            nn.BatchNorm1d(512),\n",
    "            nn.ReLU(),\n",
    "            nn.Dropout(0.3),\n",
    "            \n",
    "            # Sixth block\n",
    "            nn.Linear(512, 256),\n",
    "            nn.BatchNorm1d(256),\n",
    "            nn.ReLU(),\n",
    "            nn.Dropout(0.3),\n",
    "            \n",
    "            # Output layer\n",
    "            nn.Linear(256, 1),\n",
    "            nn.Sigmoid()\n",
    "        )\n",
    "        \n",
    "        # Initialize weights using He initialization\n",
    "        for m in self.modules():\n",
    "            if isinstance(m, nn.Linear):\n",
    "                nn.init.kaiming_normal_(m.weight, mode='fan_in', nonlinearity='relu')\n",
    "                if m.bias is not None:\n",
    "                    nn.init.constant_(m.bias, 0)\n",
    "        \n",
    "    def forward(self, x):\n",
    "        return self.model(x)\n",
    "    \n",
    "    def self_destruct(self):\n",
    "        print(\"CURSE YOU, PERRY THE PLATYPUS!\")\n",
    "        for param in self.parameters():\n",
    "            param.data.zero_()\n",
    "        return \"💥 MEGA KABOOM! 💥\""
   ]
  },
  {
   "cell_type": "code",
   "execution_count": 44,
   "metadata": {},
   "outputs": [],
   "source": [
    "X_train = torch.FloatTensor(train_x)\n",
    "y_train = torch.FloatTensor(train_y.values).reshape(-1, 1)\n",
    "X_val = torch.FloatTensor(val_x)\n",
    "y_val = torch.FloatTensor(val_y.values).reshape(-1, 1)\n",
    "X_test = torch.FloatTensor(test_x)\n",
    "y_test = torch.FloatTensor(test_y.values).reshape(-1, 1)"
   ]
  },
  {
   "cell_type": "code",
   "execution_count": 61,
   "metadata": {},
   "outputs": [
    {
     "name": "stderr",
     "output_type": "stream",
     "text": [
      "/home/qwas/miniconda3/lib/python3.12/site-packages/torch/optim/lr_scheduler.py:60: UserWarning: The verbose parameter is deprecated. Please use get_last_lr() to access the learning rate.\n",
      "  warnings.warn(\n"
     ]
    }
   ],
   "source": [
    "pos_weight = torch.tensor([(len(train_y) - train_y.sum()) / train_y.sum()])\n",
    "    \n",
    "train_dataset = TensorDataset(X_train, y_train)\n",
    "train_loader = DataLoader(train_dataset, batch_size=256, shuffle=True)\n",
    "    \n",
    "model = MegaInator(input_size=train_x.shape[1])\n",
    "criterion = nn.BCEWithLogitsLoss(pos_weight=pos_weight)\n",
    "optimizer = optim.AdamW(model.parameters(), lr=0.001, weight_decay=0.01)\n",
    "scheduler = optim.lr_scheduler.ReduceLROnPlateau(optimizer, mode='max', \n",
    "                                                   factor=0.5, patience=5, verbose=True)"
   ]
  },
  {
   "cell_type": "code",
   "execution_count": 62,
   "metadata": {},
   "outputs": [],
   "source": [
    "history = {\n",
    "        'train_loss': [],\n",
    "        'val_f1': [],\n",
    "        'best_f1': 0.0\n",
    "    }\n",
    "    \n",
    "patience = 10\n",
    "counter = 0\n",
    "best_model = None"
   ]
  },
  {
   "cell_type": "code",
   "execution_count": 63,
   "metadata": {},
   "outputs": [
    {
     "ename": "",
     "evalue": "",
     "output_type": "error",
     "traceback": [
      "\u001b[1;31mThe Kernel crashed while executing code in the current cell or a previous cell. \n",
      "\u001b[1;31mPlease review the code in the cell(s) to identify a possible cause of the failure. \n",
      "\u001b[1;31mClick <a href='https://aka.ms/vscodeJupyterKernelCrash'>here</a> for more info. \n",
      "\u001b[1;31mView Jupyter <a href='command:jupyter.viewOutput'>log</a> for further details."
     ]
    }
   ],
   "source": [
    "epochs = 100\n",
    "    \n",
    "for epoch in range(epochs):\n",
    "    model.train()\n",
    "    epoch_loss = 0\n",
    "    \n",
    "    for batch_x, batch_y in train_loader:\n",
    "        optimizer.zero_grad()\n",
    "        outputs = model(batch_x)\n",
    "        loss = criterion(outputs, batch_y)\n",
    "        loss.backward()\n",
    "        \n",
    "        torch.nn.utils.clip_grad_norm_(model.parameters(), max_norm=1.0)\n",
    "        \n",
    "        optimizer.step()\n",
    "        epoch_loss += loss.item()\n",
    "    \n",
    "    model.eval()\n",
    "    with torch.no_grad():\n",
    "        val_preds = (model(X_val) >= 0.5).float()\n",
    "        val_f1 = f1_score(y_val.numpy(), val_preds.numpy())\n",
    "        \n",
    "        scheduler.step(val_f1)\n",
    "        \n",
    "        history['train_loss'].append(epoch_loss / len(train_loader))\n",
    "        history['val_f1'].append(val_f1)\n",
    "        \n",
    "        #if val_f1 > history['best_f1']:\n",
    "        #    history['best_f1'] = val_f1\n",
    "        #    best_model = model.state_dict().copy()\n",
    "        #    counter = 0\n",
    "        #else:\n",
    "        #    counter += 1\n",
    "        #    if counter >= patience:\n",
    "        #        print(\"CURSE YOU, EARLY STOPPING!\")\n",
    "        #        break\n",
    "        \n",
    "        if (epoch + 1) % 10 == 0:\n",
    "            print(f\"BEHOLD! Epoch {epoch+1}/{epochs}\")\n",
    "            print(f\"Training Loss: {epoch_loss/len(train_loader):.4f}\")\n",
    "            print(f\"Validation F1: {val_f1:.4f}\")\n",
    "    \n",
    "    #model.load_state_dict(best_model)\n",
    "    model.eval()\n",
    "    with torch.no_grad():\n",
    "        test_preds = (model(X_test) >= 0.5).float()\n",
    "        test_f1 = f1_score(y_test.numpy(), test_preds.numpy())"
   ]
  },
  {
   "cell_type": "code",
   "execution_count": 55,
   "metadata": {},
   "outputs": [
    {
     "name": "stdout",
     "output_type": "stream",
     "text": [
      "\n",
      "BEHOLD! The Final-Test-F1-Score-Inator: 0.5821\n"
     ]
    },
    {
     "data": {
      "image/png": "[encoded data removed]",
      "text/plain": [
       "<Figure size 1000x500 with 2 Axes>"
      ]
     },
     "metadata": {},
     "output_type": "display_data"
    }
   ],
   "source": [
    "print(f\"\\nBEHOLD! The Final-Test-F1-Score-Inator: {test_f1:.4f}\")\n",
    "    \n",
    "plt.figure(figsize=(10, 5))\n",
    "plt.subplot(1, 2, 1)\n",
    "plt.plot(history['train_loss'])\n",
    "plt.title('The Training-Loss-Inator')\n",
    "plt.xlabel('Epoch')\n",
    "plt.ylabel('Loss')\n",
    "    \n",
    "plt.subplot(1, 2, 2)\n",
    "plt.plot(history['val_f1'])\n",
    "plt.title('The Validation-F1-Score-Inator')\n",
    "plt.xlabel('Epoch')\n",
    "plt.ylabel('F1 Score')\n",
    "plt.tight_layout()"
   ]
  }
 ],
 "metadata": {
  "kernelspec": {
   "display_name": "base",
   "language": "python",
   "name": "python3"
  },
  "language_info": {
   "codemirror_mode": {
    "name": "ipython",
    "version": 3
   },
   "file_extension": ".py",
   "mimetype": "text/x-python",
   "name": "python",
   "nbconvert_exporter": "python",
   "pygments_lexer": "ipython3",
   "version": "3.12.2"
  }
 },
 "nbformat": 4,
 "nbformat_minor": 2
}
